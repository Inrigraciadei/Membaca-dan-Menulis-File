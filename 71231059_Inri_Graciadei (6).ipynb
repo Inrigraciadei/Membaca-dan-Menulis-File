{
  "nbformat": 4,
  "nbformat_minor": 0,
  "metadata": {
    "colab": {
      "provenance": []
    },
    "kernelspec": {
      "name": "python3",
      "display_name": "Python 3"
    },
    "language_info": {
      "name": "python"
    }
  },
  "cells": [
    {
      "cell_type": "code",
      "execution_count": null,
      "metadata": {
        "id": "JCrEEIPHXxLF"
      },
      "outputs": [],
      "source": [
        "Soal 1"
      ]
    },
    {
      "cell_type": "code",
      "source": [
        "handle_pertama = open(\"pertama.txt\").readlines()\n",
        "handle_kedua = open(\"kedua.txt\").readlines()\n",
        "lines = max(len(handle_pertama), len(handle_kedua))\n",
        "for i in range(lines):\n",
        "    if i < len(handle_pertama) and i < len(handle_kedua):\n",
        "        if handle_pertama[i] == handle_kedua[i]:\n",
        "            print(f\"Baris ke {i + 1} pada kedua file adalah sama\")\n",
        "        else:\n",
        "            print(f\"Baris ke {i + 1} berbeda\")\n",
        "            print(f\"Perbedaannya terdapat pada {handle_pertama[i]} pada file pertama dan {handle_kedua[i]} pada file kedua.\")"
      ],
      "metadata": {
        "id": "Lw76D93xYFCg"
      },
      "execution_count": null,
      "outputs": []
    },
    {
      "cell_type": "markdown",
      "source": [
        "Soal 2"
      ],
      "metadata": {
        "id": "qA563jh-YpIo"
      }
    },
    {
      "cell_type": "code",
      "source": [
        "handle = open(\"soal.txt\", \"r\").readlines()\n",
        "for line in handle:\n",
        "    pertanyaan, jawaban = line.split(\"||\")\n",
        "    pertanyaan = pertanyaan.strip()\n",
        "\n",
        "    print(pertanyaan)\n",
        "    jawab = input(\"Jawab: \").lower().strip()\n",
        "    if jawab == jawaban.lower().strip():\n",
        "        print(\"Jawaban benar!\")\n",
        "    else:\n",
        "        print(\"Jawaban salah!\")"
      ],
      "metadata": {
        "id": "0j7rtuhKYqPj"
      },
      "execution_count": null,
      "outputs": []
    }
  ]
}